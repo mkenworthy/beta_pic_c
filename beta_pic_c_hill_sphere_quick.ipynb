{
 "cells": [
  {
   "cell_type": "code",
   "execution_count": 25,
   "metadata": {},
   "outputs": [
    {
     "data": {
      "text/plain": [
       "'%.2f'"
      ]
     },
     "execution_count": 25,
     "metadata": {},
     "output_type": "execute_result"
    }
   ],
   "source": [
    "import numpy as np\n",
    "import matplotlib.pyplot as plt\n",
    "from kepler3 import *\n",
    "\n",
    "from astropy import constants as c\n",
    "from astropy import units as u\n",
    "\n",
    "%precision 2"
   ]
  },
  {
   "cell_type": "markdown",
   "metadata": {},
   "source": [
    "### Parameters for Beta Pic c"
   ]
  },
  {
   "cell_type": "code",
   "execution_count": 29,
   "metadata": {},
   "outputs": [
    {
     "data": {
      "text/plain": [
       "'%.4f'"
      ]
     },
     "execution_count": 29,
     "metadata": {},
     "output_type": "execute_result"
    }
   ],
   "source": [
    "\n",
    "a_c = 2.68 * u.au\n",
    "P_c = 3.0 * u.yr\n",
    "\n",
    "Mstar = 1.78 * u.M_sun\n",
    "Rstar = 1.497 * u.Rsun # Zwintz19\n",
    "Mc = 7.8 * u.M_jup\n",
    "\n",
    "%precision 4"
   ]
  },
  {
   "cell_type": "markdown",
   "metadata": {},
   "source": [
    "### Hill sphere diameter is...."
   ]
  },
  {
   "cell_type": "code",
   "execution_count": 31,
   "metadata": {},
   "outputs": [
    {
     "data": {
      "text/latex": [
       "$0.598 \\; \\mathrm{AU}$"
      ],
      "text/plain": [
       "<Quantity 0.598 AU>"
      ]
     },
     "execution_count": 31,
     "metadata": {},
     "output_type": "execute_result"
    }
   ],
   "source": [
    "dhill_c = 2.*rhill(Mstar, Mc, a_c)\n",
    "dhill_c.to(u.au)"
   ]
  },
  {
   "cell_type": "markdown",
   "metadata": {},
   "source": [
    "### Circular orbital velocity and transit of Hill sphere duration"
   ]
  },
  {
   "cell_type": "code",
   "execution_count": 32,
   "metadata": {},
   "outputs": [
    {
     "name": "stdout",
     "output_type": "stream",
     "text": [
      "26.608160566595103 km / s\n"
     ]
    },
    {
     "data": {
      "text/latex": [
       "$38.91 \\; \\mathrm{d}$"
      ],
      "text/plain": [
       "<Quantity 38.9118 d>"
      ]
     },
     "execution_count": 32,
     "metadata": {},
     "output_type": "execute_result"
    }
   ],
   "source": [
    "v = (2 * np.pi * a_c / P_c).to(u.km/u.s)\n",
    "print(v)\n",
    "thill_c = (rhill_c*2/v).decompose().to(u.d)\n",
    "thill_c"
   ]
  },
  {
   "cell_type": "markdown",
   "metadata": {},
   "source": [
    "### Time for material at orbital velocity to cross star"
   ]
  },
  {
   "cell_type": "code",
   "execution_count": 33,
   "metadata": {},
   "outputs": [
    {
     "data": {
      "text/latex": [
       "$0.906 \\; \\mathrm{d}$"
      ],
      "text/plain": [
       "<Quantity 0.906 d>"
      ]
     },
     "execution_count": 33,
     "metadata": {},
     "output_type": "execute_result"
    }
   ],
   "source": [
    "t_transit_c = (2 * Rstar / v).to(u.d)\n",
    "t_transit_c\n"
   ]
  },
  {
   "cell_type": "code",
   "execution_count": null,
   "metadata": {},
   "outputs": [],
   "source": []
  }
 ],
 "metadata": {
  "kernelspec": {
   "display_name": "Python 3",
   "language": "python",
   "name": "python3"
  },
  "language_info": {
   "codemirror_mode": {
    "name": "ipython",
    "version": 3
   },
   "file_extension": ".py",
   "mimetype": "text/x-python",
   "name": "python",
   "nbconvert_exporter": "python",
   "pygments_lexer": "ipython3",
   "version": "3.7.4"
  }
 },
 "nbformat": 4,
 "nbformat_minor": 4
}
